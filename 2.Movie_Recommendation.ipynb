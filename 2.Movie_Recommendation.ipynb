{
 "cells": [
  {
   "cell_type": "markdown",
   "id": "4da8af3b",
   "metadata": {},
   "source": [
    "### Import Necessary Libraries"
   ]
  },
  {
   "cell_type": "code",
   "execution_count": 1,
   "id": "4bb87a13",
   "metadata": {},
   "outputs": [],
   "source": [
    "import pandas as pd\n",
    "import random\n",
    "import warnings\n",
    "warnings.filterwarnings(\"ignore\")\n"
   ]
  },
  {
   "cell_type": "markdown",
   "id": "6e7dfebe",
   "metadata": {},
   "source": [
    "### Read the Extracted Dataset"
   ]
  },
  {
   "cell_type": "code",
   "execution_count": 2,
   "id": "20b692e5",
   "metadata": {},
   "outputs": [
    {
     "data": {
      "text/html": [
       "<div>\n",
       "<style scoped>\n",
       "    .dataframe tbody tr th:only-of-type {\n",
       "        vertical-align: middle;\n",
       "    }\n",
       "\n",
       "    .dataframe tbody tr th {\n",
       "        vertical-align: top;\n",
       "    }\n",
       "\n",
       "    .dataframe thead th {\n",
       "        text-align: right;\n",
       "    }\n",
       "</style>\n",
       "<table border=\"1\" class=\"dataframe\">\n",
       "  <thead>\n",
       "    <tr style=\"text-align: right;\">\n",
       "      <th></th>\n",
       "      <th>Popular_cast</th>\n",
       "      <th>director_name</th>\n",
       "      <th>keywords</th>\n",
       "      <th>movie_genre</th>\n",
       "      <th>movie_id</th>\n",
       "      <th>overview</th>\n",
       "      <th>release_date</th>\n",
       "      <th>title</th>\n",
       "    </tr>\n",
       "  </thead>\n",
       "  <tbody>\n",
       "    <tr>\n",
       "      <th>0</th>\n",
       "      <td>['Tommy Lee Jones' 'Will Smith' 'Steven Spielb...</td>\n",
       "      <td>['Barry Sonnenfeld']</td>\n",
       "      <td>['new york city' 'secret identity' 'undercover...</td>\n",
       "      <td>['Action' 'Adventure' 'Comedy' 'Science Fiction']</td>\n",
       "      <td>607.0</td>\n",
       "      <td>After a police chase with an otherworldly bein...</td>\n",
       "      <td>1997-07-02</td>\n",
       "      <td>Men in Black</td>\n",
       "    </tr>\n",
       "    <tr>\n",
       "      <th>1</th>\n",
       "      <td>['Sandra Bullock' 'Awkwafina' 'Dakota Fanning'...</td>\n",
       "      <td>['Gary Ross']</td>\n",
       "      <td>['new york city' 'heist' 'spin off' 'estranged...</td>\n",
       "      <td>['Crime' 'Comedy' 'Action']</td>\n",
       "      <td>402900.0</td>\n",
       "      <td>Debbie Ocean, a criminal mastermind, gathers a...</td>\n",
       "      <td>2018-06-07</td>\n",
       "      <td>Ocean's Eight</td>\n",
       "    </tr>\n",
       "    <tr>\n",
       "      <th>2</th>\n",
       "      <td>['Manuel Garcia-Rulfo' 'Josh Brolin' 'Isabela ...</td>\n",
       "      <td>['Stefano Sollima']</td>\n",
       "      <td>['corruption' 'cia' 'sequel' 'rescue' 'shootou...</td>\n",
       "      <td>['Action' 'Crime' 'Drama' 'Thriller']</td>\n",
       "      <td>400535.0</td>\n",
       "      <td>Agent Matt Graver teams up with operative Alej...</td>\n",
       "      <td>2018-06-27</td>\n",
       "      <td>Sicario: Day of the Soldado</td>\n",
       "    </tr>\n",
       "    <tr>\n",
       "      <th>3</th>\n",
       "      <td>['Anne Heche' 'Adam Baldwin' 'Tom Kenny' 'Swoo...</td>\n",
       "      <td>['Lauren Montgomery' 'Bruce Timm' 'Brandon Vie...</td>\n",
       "      <td>['superhero' 'based on comic' 'super power' 'd...</td>\n",
       "      <td>['Action' 'Animation' 'Science Fiction' 'Family']</td>\n",
       "      <td>13640.0</td>\n",
       "      <td>When LexCorp accidentally unleashes a murderou...</td>\n",
       "      <td>2007-09-18</td>\n",
       "      <td>Superman: Doomsday</td>\n",
       "    </tr>\n",
       "    <tr>\n",
       "      <th>4</th>\n",
       "      <td>['Ana de Armas' 'Joseph Gordon-Levitt' 'Michae...</td>\n",
       "      <td>['Rian Johnson']</td>\n",
       "      <td>['detective' 'massachusetts' 'immigrant' 'big ...</td>\n",
       "      <td>['Comedy' 'Crime' 'Mystery']</td>\n",
       "      <td>546554.0</td>\n",
       "      <td>When renowned crime novelist Harlan Thrombey i...</td>\n",
       "      <td>2019-11-27</td>\n",
       "      <td>Knives Out</td>\n",
       "    </tr>\n",
       "  </tbody>\n",
       "</table>\n",
       "</div>"
      ],
      "text/plain": [
       "                                        Popular_cast  \\\n",
       "0  ['Tommy Lee Jones' 'Will Smith' 'Steven Spielb...   \n",
       "1  ['Sandra Bullock' 'Awkwafina' 'Dakota Fanning'...   \n",
       "2  ['Manuel Garcia-Rulfo' 'Josh Brolin' 'Isabela ...   \n",
       "3  ['Anne Heche' 'Adam Baldwin' 'Tom Kenny' 'Swoo...   \n",
       "4  ['Ana de Armas' 'Joseph Gordon-Levitt' 'Michae...   \n",
       "\n",
       "                                       director_name  \\\n",
       "0                               ['Barry Sonnenfeld']   \n",
       "1                                      ['Gary Ross']   \n",
       "2                                ['Stefano Sollima']   \n",
       "3  ['Lauren Montgomery' 'Bruce Timm' 'Brandon Vie...   \n",
       "4                                   ['Rian Johnson']   \n",
       "\n",
       "                                            keywords  \\\n",
       "0  ['new york city' 'secret identity' 'undercover...   \n",
       "1  ['new york city' 'heist' 'spin off' 'estranged...   \n",
       "2  ['corruption' 'cia' 'sequel' 'rescue' 'shootou...   \n",
       "3  ['superhero' 'based on comic' 'super power' 'd...   \n",
       "4  ['detective' 'massachusetts' 'immigrant' 'big ...   \n",
       "\n",
       "                                         movie_genre  movie_id  \\\n",
       "0  ['Action' 'Adventure' 'Comedy' 'Science Fiction']     607.0   \n",
       "1                        ['Crime' 'Comedy' 'Action']  402900.0   \n",
       "2              ['Action' 'Crime' 'Drama' 'Thriller']  400535.0   \n",
       "3  ['Action' 'Animation' 'Science Fiction' 'Family']   13640.0   \n",
       "4                       ['Comedy' 'Crime' 'Mystery']  546554.0   \n",
       "\n",
       "                                            overview release_date  \\\n",
       "0  After a police chase with an otherworldly bein...   1997-07-02   \n",
       "1  Debbie Ocean, a criminal mastermind, gathers a...   2018-06-07   \n",
       "2  Agent Matt Graver teams up with operative Alej...   2018-06-27   \n",
       "3  When LexCorp accidentally unleashes a murderou...   2007-09-18   \n",
       "4  When renowned crime novelist Harlan Thrombey i...   2019-11-27   \n",
       "\n",
       "                         title  \n",
       "0                 Men in Black  \n",
       "1                Ocean's Eight  \n",
       "2  Sicario: Day of the Soldado  \n",
       "3           Superman: Doomsday  \n",
       "4                   Knives Out  "
      ]
     },
     "execution_count": 2,
     "metadata": {},
     "output_type": "execute_result"
    }
   ],
   "source": [
    "movies_df = pd.read_csv('Extracted_Dataset.csv')\n",
    "\n",
    "movies_df = movies_df.iloc[:,1:]\n",
    "\n",
    "movies_df.head()"
   ]
  },
  {
   "cell_type": "code",
   "execution_count": 3,
   "id": "c25016f7",
   "metadata": {},
   "outputs": [
    {
     "data": {
      "text/plain": [
       "Popular_cast      object\n",
       "director_name     object\n",
       "keywords          object\n",
       "movie_genre       object\n",
       "movie_id         float64\n",
       "overview          object\n",
       "release_date      object\n",
       "title             object\n",
       "dtype: object"
      ]
     },
     "execution_count": 3,
     "metadata": {},
     "output_type": "execute_result"
    }
   ],
   "source": [
    "movies_df.dtypes"
   ]
  },
  {
   "cell_type": "code",
   "execution_count": 4,
   "id": "49269b5c",
   "metadata": {},
   "outputs": [],
   "source": [
    "movies_df['movie_id'] = movies_df['movie_id'].astype(object)"
   ]
  },
  {
   "cell_type": "code",
   "execution_count": 5,
   "id": "38602995",
   "metadata": {},
   "outputs": [
    {
     "data": {
      "text/plain": [
       "Popular_cast     object\n",
       "director_name    object\n",
       "keywords         object\n",
       "movie_genre      object\n",
       "movie_id         object\n",
       "overview         object\n",
       "release_date     object\n",
       "title            object\n",
       "dtype: object"
      ]
     },
     "execution_count": 5,
     "metadata": {},
     "output_type": "execute_result"
    }
   ],
   "source": [
    "movies_df.dtypes"
   ]
  },
  {
   "cell_type": "code",
   "execution_count": 6,
   "id": "5862c432",
   "metadata": {},
   "outputs": [],
   "source": [
    "movies_df = movies_df[['movie_id','title','movie_genre','keywords','director_name','Popular_cast','overview']]"
   ]
  },
  {
   "cell_type": "code",
   "execution_count": 7,
   "id": "5023dee3",
   "metadata": {},
   "outputs": [],
   "source": [
    "movies_df['overview']=movies_df['overview'].apply(lambda x:str(x))\n",
    "movies_df['overview'] = movies_df['overview'].apply(lambda x : x.split())"
   ]
  },
  {
   "cell_type": "code",
   "execution_count": 8,
   "id": "f0e4a117",
   "metadata": {},
   "outputs": [
    {
     "data": {
      "text/html": [
       "<div>\n",
       "<style scoped>\n",
       "    .dataframe tbody tr th:only-of-type {\n",
       "        vertical-align: middle;\n",
       "    }\n",
       "\n",
       "    .dataframe tbody tr th {\n",
       "        vertical-align: top;\n",
       "    }\n",
       "\n",
       "    .dataframe thead th {\n",
       "        text-align: right;\n",
       "    }\n",
       "</style>\n",
       "<table border=\"1\" class=\"dataframe\">\n",
       "  <thead>\n",
       "    <tr style=\"text-align: right;\">\n",
       "      <th></th>\n",
       "      <th>movie_id</th>\n",
       "      <th>title</th>\n",
       "      <th>movie_genre</th>\n",
       "      <th>keywords</th>\n",
       "      <th>director_name</th>\n",
       "      <th>Popular_cast</th>\n",
       "      <th>overview</th>\n",
       "    </tr>\n",
       "  </thead>\n",
       "  <tbody>\n",
       "    <tr>\n",
       "      <th>0</th>\n",
       "      <td>607</td>\n",
       "      <td>Men in Black</td>\n",
       "      <td>['Action' 'Adventure' 'Comedy' 'Science Fiction']</td>\n",
       "      <td>['new york city' 'secret identity' 'undercover...</td>\n",
       "      <td>['Barry Sonnenfeld']</td>\n",
       "      <td>['Tommy Lee Jones' 'Will Smith' 'Steven Spielb...</td>\n",
       "      <td>[After, a, police, chase, with, an, otherworld...</td>\n",
       "    </tr>\n",
       "    <tr>\n",
       "      <th>1</th>\n",
       "      <td>402900</td>\n",
       "      <td>Ocean's Eight</td>\n",
       "      <td>['Crime' 'Comedy' 'Action']</td>\n",
       "      <td>['new york city' 'heist' 'spin off' 'estranged...</td>\n",
       "      <td>['Gary Ross']</td>\n",
       "      <td>['Sandra Bullock' 'Awkwafina' 'Dakota Fanning'...</td>\n",
       "      <td>[Debbie, Ocean,, a, criminal, mastermind,, gat...</td>\n",
       "    </tr>\n",
       "    <tr>\n",
       "      <th>2</th>\n",
       "      <td>400535</td>\n",
       "      <td>Sicario: Day of the Soldado</td>\n",
       "      <td>['Action' 'Crime' 'Drama' 'Thriller']</td>\n",
       "      <td>['corruption' 'cia' 'sequel' 'rescue' 'shootou...</td>\n",
       "      <td>['Stefano Sollima']</td>\n",
       "      <td>['Manuel Garcia-Rulfo' 'Josh Brolin' 'Isabela ...</td>\n",
       "      <td>[Agent, Matt, Graver, teams, up, with, operati...</td>\n",
       "    </tr>\n",
       "    <tr>\n",
       "      <th>3</th>\n",
       "      <td>13640</td>\n",
       "      <td>Superman: Doomsday</td>\n",
       "      <td>['Action' 'Animation' 'Science Fiction' 'Family']</td>\n",
       "      <td>['superhero' 'based on comic' 'super power' 'd...</td>\n",
       "      <td>['Lauren Montgomery' 'Bruce Timm' 'Brandon Vie...</td>\n",
       "      <td>['Anne Heche' 'Adam Baldwin' 'Tom Kenny' 'Swoo...</td>\n",
       "      <td>[When, LexCorp, accidentally, unleashes, a, mu...</td>\n",
       "    </tr>\n",
       "    <tr>\n",
       "      <th>4</th>\n",
       "      <td>546554</td>\n",
       "      <td>Knives Out</td>\n",
       "      <td>['Comedy' 'Crime' 'Mystery']</td>\n",
       "      <td>['detective' 'massachusetts' 'immigrant' 'big ...</td>\n",
       "      <td>['Rian Johnson']</td>\n",
       "      <td>['Ana de Armas' 'Joseph Gordon-Levitt' 'Michae...</td>\n",
       "      <td>[When, renowned, crime, novelist, Harlan, Thro...</td>\n",
       "    </tr>\n",
       "  </tbody>\n",
       "</table>\n",
       "</div>"
      ],
      "text/plain": [
       "  movie_id                        title  \\\n",
       "0      607                 Men in Black   \n",
       "1   402900                Ocean's Eight   \n",
       "2   400535  Sicario: Day of the Soldado   \n",
       "3    13640           Superman: Doomsday   \n",
       "4   546554                   Knives Out   \n",
       "\n",
       "                                         movie_genre  \\\n",
       "0  ['Action' 'Adventure' 'Comedy' 'Science Fiction']   \n",
       "1                        ['Crime' 'Comedy' 'Action']   \n",
       "2              ['Action' 'Crime' 'Drama' 'Thriller']   \n",
       "3  ['Action' 'Animation' 'Science Fiction' 'Family']   \n",
       "4                       ['Comedy' 'Crime' 'Mystery']   \n",
       "\n",
       "                                            keywords  \\\n",
       "0  ['new york city' 'secret identity' 'undercover...   \n",
       "1  ['new york city' 'heist' 'spin off' 'estranged...   \n",
       "2  ['corruption' 'cia' 'sequel' 'rescue' 'shootou...   \n",
       "3  ['superhero' 'based on comic' 'super power' 'd...   \n",
       "4  ['detective' 'massachusetts' 'immigrant' 'big ...   \n",
       "\n",
       "                                       director_name  \\\n",
       "0                               ['Barry Sonnenfeld']   \n",
       "1                                      ['Gary Ross']   \n",
       "2                                ['Stefano Sollima']   \n",
       "3  ['Lauren Montgomery' 'Bruce Timm' 'Brandon Vie...   \n",
       "4                                   ['Rian Johnson']   \n",
       "\n",
       "                                        Popular_cast  \\\n",
       "0  ['Tommy Lee Jones' 'Will Smith' 'Steven Spielb...   \n",
       "1  ['Sandra Bullock' 'Awkwafina' 'Dakota Fanning'...   \n",
       "2  ['Manuel Garcia-Rulfo' 'Josh Brolin' 'Isabela ...   \n",
       "3  ['Anne Heche' 'Adam Baldwin' 'Tom Kenny' 'Swoo...   \n",
       "4  ['Ana de Armas' 'Joseph Gordon-Levitt' 'Michae...   \n",
       "\n",
       "                                            overview  \n",
       "0  [After, a, police, chase, with, an, otherworld...  \n",
       "1  [Debbie, Ocean,, a, criminal, mastermind,, gat...  \n",
       "2  [Agent, Matt, Graver, teams, up, with, operati...  \n",
       "3  [When, LexCorp, accidentally, unleashes, a, mu...  \n",
       "4  [When, renowned, crime, novelist, Harlan, Thro...  "
      ]
     },
     "execution_count": 8,
     "metadata": {},
     "output_type": "execute_result"
    }
   ],
   "source": [
    "movies_df.head()"
   ]
  },
  {
   "cell_type": "code",
   "execution_count": 9,
   "id": "565dc125",
   "metadata": {},
   "outputs": [],
   "source": [
    "movies_df['movie_genre'] = movies_df['movie_genre'].apply(lambda x : x.replace(\" \",\"\"))"
   ]
  },
  {
   "cell_type": "code",
   "execution_count": 10,
   "id": "f826728d",
   "metadata": {},
   "outputs": [],
   "source": [
    "movies_df['director_name'] = movies_df['director_name'].apply(lambda x : x.replace(\" \",\"\"))"
   ]
  },
  {
   "cell_type": "markdown",
   "id": "57dc46d4",
   "metadata": {},
   "source": [
    "### create a new column tags by combining all the text columns"
   ]
  },
  {
   "cell_type": "code",
   "execution_count": 11,
   "id": "0443161f",
   "metadata": {},
   "outputs": [],
   "source": [
    "x = movies_df[\"Popular_cast\"][0].replace(\"[\",\"\").replace(\"]\",\"\").replace(\" \",\"\").split()"
   ]
  },
  {
   "cell_type": "code",
   "execution_count": 12,
   "id": "1a373ada",
   "metadata": {},
   "outputs": [
    {
     "data": {
      "text/plain": [
       "0       ['TommyLeeJones''WillSmith''StevenSpielberg'Vi...\n",
       "1       ['SandraBullock''Awkwafina''DakotaFanning''Hel...\n",
       "2       ['ManuelGarcia-Rulfo''JoshBrolin''IsabelaMerce...\n",
       "3       ['AnneHeche''AdamBaldwin''TomKenny''SwoosieKur...\n",
       "4       ['AnadeArmas''JosephGordon-Levitt''MichaelShan...\n",
       "                              ...                        \n",
       "3801    ['EmmaThompson''JulieWalters''BillyConnolly''K...\n",
       "3802    ['TimothéeChalamet''ArmieHammer''MichaelStuhlb...\n",
       "3803    ['KimCattrall''AnnaleighAshford''KristinDavis'...\n",
       "3804    ['JakeGyllenhaal''RachelMcAdams''NaomieHarris'...\n",
       "3805    ['JohnKrasinski''SethRogen''AntonioBanderas''C...\n",
       "Name: Popular_cast, Length: 3806, dtype: object"
      ]
     },
     "execution_count": 12,
     "metadata": {},
     "output_type": "execute_result"
    }
   ],
   "source": [
    "movies_df['Popular_cast'] = movies_df['Popular_cast'].apply(lambda x : x.replace('\"','')\\\n",
    "                                         .replace(\"[\",\"\")\\\n",
    "                                         .replace(\"]\",\"\")\\\n",
    "                                         .replace(\" \",\"\")\\\n",
    "                                         .split())\n",
    "\n",
    "movies_df['Popular_cast']\n",
    "    "
   ]
  },
  {
   "cell_type": "code",
   "execution_count": 13,
   "id": "deb16bf2",
   "metadata": {},
   "outputs": [
    {
     "data": {
      "text/plain": [
       "0       [TommyLeeJones, WillSmith, StevenSpielberg, Vi...\n",
       "1       [SandraBullock, Awkwafina, DakotaFanning, Hele...\n",
       "2       [ManuelGarcia-Rulfo, JoshBrolin, IsabelaMerced...\n",
       "3       [AnneHeche, AdamBaldwin, TomKenny, SwoosieKurt...\n",
       "4       [AnadeArmas, JosephGordon-Levitt, MichaelShann...\n",
       "                              ...                        \n",
       "3801    [EmmaThompson, JulieWalters, BillyConnolly, Ke...\n",
       "3802    [TimothéeChalamet, ArmieHammer, MichaelStuhlba...\n",
       "3803    [KimCattrall, AnnaleighAshford, KristinDavis, ...\n",
       "3804    [JakeGyllenhaal, RachelMcAdams, NaomieHarris, ...\n",
       "3805    [JohnKrasinski, SethRogen, AntonioBanderas, Ca...\n",
       "Name: Popular_cast, Length: 3806, dtype: object"
      ]
     },
     "execution_count": 13,
     "metadata": {},
     "output_type": "execute_result"
    }
   ],
   "source": [
    "movies_df['Popular_cast'] = movies_df['Popular_cast'].apply(lambda x : \" \".join(x))\n",
    "movies_df['Popular_cast'].apply(lambda x : x.replace(\"'\",\" \").split())"
   ]
  },
  {
   "cell_type": "code",
   "execution_count": 14,
   "id": "d67d16a3",
   "metadata": {},
   "outputs": [
    {
     "data": {
      "text/plain": [
       "0       After a police chase with an otherworldly bein...\n",
       "1       Debbie Ocean, a criminal mastermind, gathers a...\n",
       "2       Agent Matt Graver teams up with operative Alej...\n",
       "3       When LexCorp accidentally unleashes a murderou...\n",
       "4       When renowned crime novelist Harlan Thrombey i...\n",
       "                              ...                        \n",
       "3801    Brave is set in the mystical Scottish Highland...\n",
       "3802    In 1980s Italy, a relationship begins between ...\n",
       "3803    A New York writer on sex and love is finally g...\n",
       "3804    Billy \"The Great\" Hope, the reigning junior mi...\n",
       "3805    The King of Far Far Away has died and Shrek an...\n",
       "Name: overview, Length: 3806, dtype: object"
      ]
     },
     "execution_count": 14,
     "metadata": {},
     "output_type": "execute_result"
    }
   ],
   "source": [
    "movies_df['Popular_cast'].apply(lambda x : x.replace(\"'\",\" \").split())\n",
    "movies_df['overview'].apply(lambda x : \" \".join(x))"
   ]
  },
  {
   "cell_type": "code",
   "execution_count": 15,
   "id": "2c57da00",
   "metadata": {},
   "outputs": [],
   "source": [
    "movies_df['overview'] = movies_df['overview'].apply(lambda x : \" \".join(x))"
   ]
  },
  {
   "cell_type": "code",
   "execution_count": 16,
   "id": "cf9a9bf1",
   "metadata": {},
   "outputs": [],
   "source": [
    "movies_df['tags'] = movies_df['movie_genre']+movies_df['keywords']+movies_df['Popular_cast']+movies_df['overview']\n"
   ]
  },
  {
   "cell_type": "code",
   "execution_count": 17,
   "id": "71ba13a7",
   "metadata": {},
   "outputs": [],
   "source": [
    "def convert(text):\n",
    "    \n",
    "    return text.replace(\"[\",\"\").replace(\"]\",\"\").replace(\"'\",\" \").replace(\"\\n\",\"\").lower()"
   ]
  },
  {
   "cell_type": "code",
   "execution_count": 18,
   "id": "60a9254a",
   "metadata": {},
   "outputs": [
    {
     "data": {
      "text/plain": [
       "' action  adventure  comedy  sciencefiction  new york city   secret identity   undercover   space marine   illegal immigration   deportation   new identity   giant cockroach   cannon   flying saucer   stay permit   superhero   alien   buddy cop   fictional government agency  tommyleejones  willsmith  stevenspielberg vincentd onofrio  sylvesterstallone after a police chase with an otherworldly being, a new york city cop is recruited as an agent in a top-secret organization established to monitor and police alien activity on earth: the men in black. agent kay and new recruit agent jay find themselves in the middle of a deadly plot by an intergalactic terrorist who has arrived on earth to assassinate two ambassadors from opposing galaxies.'"
      ]
     },
     "execution_count": 18,
     "metadata": {},
     "output_type": "execute_result"
    }
   ],
   "source": [
    "convert(movies_df['tags'][0])"
   ]
  },
  {
   "cell_type": "code",
   "execution_count": 19,
   "id": "3013e981",
   "metadata": {},
   "outputs": [],
   "source": [
    "movies_df['tags'] = movies_df['tags'].apply(convert)"
   ]
  },
  {
   "cell_type": "code",
   "execution_count": 20,
   "id": "c87454e1",
   "metadata": {},
   "outputs": [
    {
     "data": {
      "text/html": [
       "<div>\n",
       "<style scoped>\n",
       "    .dataframe tbody tr th:only-of-type {\n",
       "        vertical-align: middle;\n",
       "    }\n",
       "\n",
       "    .dataframe tbody tr th {\n",
       "        vertical-align: top;\n",
       "    }\n",
       "\n",
       "    .dataframe thead th {\n",
       "        text-align: right;\n",
       "    }\n",
       "</style>\n",
       "<table border=\"1\" class=\"dataframe\">\n",
       "  <thead>\n",
       "    <tr style=\"text-align: right;\">\n",
       "      <th></th>\n",
       "      <th>movie_id</th>\n",
       "      <th>title</th>\n",
       "      <th>tags</th>\n",
       "    </tr>\n",
       "  </thead>\n",
       "  <tbody>\n",
       "    <tr>\n",
       "      <th>0</th>\n",
       "      <td>607</td>\n",
       "      <td>Men in Black</td>\n",
       "      <td>action  adventure  comedy  sciencefiction  ne...</td>\n",
       "    </tr>\n",
       "    <tr>\n",
       "      <th>1</th>\n",
       "      <td>402900</td>\n",
       "      <td>Ocean's Eight</td>\n",
       "      <td>crime  comedy  action  new york city   heist ...</td>\n",
       "    </tr>\n",
       "    <tr>\n",
       "      <th>2</th>\n",
       "      <td>400535</td>\n",
       "      <td>Sicario: Day of the Soldado</td>\n",
       "      <td>action  crime  drama  thriller  corruption   ...</td>\n",
       "    </tr>\n",
       "    <tr>\n",
       "      <th>3</th>\n",
       "      <td>13640</td>\n",
       "      <td>Superman: Doomsday</td>\n",
       "      <td>action  animation  sciencefiction  family  su...</td>\n",
       "    </tr>\n",
       "    <tr>\n",
       "      <th>4</th>\n",
       "      <td>546554</td>\n",
       "      <td>Knives Out</td>\n",
       "      <td>comedy  crime  mystery  detective   massachus...</td>\n",
       "    </tr>\n",
       "  </tbody>\n",
       "</table>\n",
       "</div>"
      ],
      "text/plain": [
       "  movie_id                        title  \\\n",
       "0      607                 Men in Black   \n",
       "1   402900                Ocean's Eight   \n",
       "2   400535  Sicario: Day of the Soldado   \n",
       "3    13640           Superman: Doomsday   \n",
       "4   546554                   Knives Out   \n",
       "\n",
       "                                                tags  \n",
       "0   action  adventure  comedy  sciencefiction  ne...  \n",
       "1   crime  comedy  action  new york city   heist ...  \n",
       "2   action  crime  drama  thriller  corruption   ...  \n",
       "3   action  animation  sciencefiction  family  su...  \n",
       "4   comedy  crime  mystery  detective   massachus...  "
      ]
     },
     "execution_count": 20,
     "metadata": {},
     "output_type": "execute_result"
    }
   ],
   "source": [
    "new_df = movies_df[['movie_id','title','tags']]\n",
    "new_df.head()"
   ]
  },
  {
   "cell_type": "markdown",
   "id": "673ddd5f",
   "metadata": {},
   "source": [
    "### Applying stemming or lemmatization on tags column"
   ]
  },
  {
   "cell_type": "code",
   "execution_count": 21,
   "id": "f85f1cae",
   "metadata": {},
   "outputs": [],
   "source": [
    "import nltk\n",
    "from nltk.stem import PorterStemmer\n",
    "ps = PorterStemmer()"
   ]
  },
  {
   "cell_type": "code",
   "execution_count": 22,
   "id": "aa1dacc8",
   "metadata": {},
   "outputs": [],
   "source": [
    "# Customized Function to split the text and use stemming techniques for each word\n",
    "# Join the stemmed words\n",
    "\n",
    "def stem(text):\n",
    "    \n",
    "    return \" \".join([ps.stem(i) for i in text.split()])\n"
   ]
  },
  {
   "cell_type": "code",
   "execution_count": 23,
   "id": "2f868b29",
   "metadata": {},
   "outputs": [
    {
     "data": {
      "text/plain": [
       "'action adventur comedi sciencefict new york citi secret ident undercov space marin illeg immigr deport new ident giant cockroach cannon fli saucer stay permit superhero alien buddi cop fiction govern agenc tommyleejon willsmith stevenspielberg vincentd onofrio sylvesterstallon after a polic chase with an otherworldli being, a new york citi cop is recruit as an agent in a top-secret organ establish to monitor and polic alien activ on earth: the men in black. agent kay and new recruit agent jay find themselv in the middl of a deadli plot by an intergalact terrorist who ha arriv on earth to assassin two ambassador from oppos galaxies.'"
      ]
     },
     "execution_count": 23,
     "metadata": {},
     "output_type": "execute_result"
    }
   ],
   "source": [
    "new_df['tags'] = new_df['tags'].apply(stem)\n",
    "\n",
    "new_df['tags'][0]"
   ]
  },
  {
   "cell_type": "code",
   "execution_count": 24,
   "id": "fbd56ca1",
   "metadata": {},
   "outputs": [],
   "source": [
    "from sklearn.feature_extraction.text import CountVectorizer\n",
    "import numpy as np\n",
    "\n",
    "cv = CountVectorizer(stop_words='english',max_features=5000)\n",
    "vectors = cv.fit_transform(new_df['tags']).toarray()\n"
   ]
  },
  {
   "cell_type": "code",
   "execution_count": 25,
   "id": "547cb591",
   "metadata": {},
   "outputs": [],
   "source": [
    "from sklearn.metrics.pairwise import cosine_similarity\n",
    "\n",
    "similarity = cosine_similarity(vectors)"
   ]
  },
  {
   "cell_type": "code",
   "execution_count": 26,
   "id": "14bb2cde",
   "metadata": {},
   "outputs": [
    {
     "data": {
      "text/plain": [
       "array([[1.        , 0.24884834, 0.07009652, ..., 0.29527343, 0.04189458,\n",
       "        0.03320649],\n",
       "       [0.24884834, 1.        , 0.04622502, ..., 0.33571983, 0.03453413,\n",
       "        0.0182483 ],\n",
       "       [0.07009652, 0.04622502, 1.        , ..., 0.01513069, 0.03112864,\n",
       "        0.        ],\n",
       "       ...,\n",
       "       [0.29527343, 0.33571983, 0.01513069, ..., 1.        , 0.06782368,\n",
       "        0.04778526],\n",
       "       [0.04189458, 0.03453413, 0.03112864, ..., 0.06782368, 1.        ,\n",
       "        0.06144342],\n",
       "       [0.03320649, 0.0182483 , 0.        , ..., 0.04778526, 0.06144342,\n",
       "        1.        ]])"
      ]
     },
     "execution_count": 26,
     "metadata": {},
     "output_type": "execute_result"
    }
   ],
   "source": [
    "similarity"
   ]
  },
  {
   "cell_type": "code",
   "execution_count": 27,
   "id": "1063ac47",
   "metadata": {},
   "outputs": [
    {
     "data": {
      "text/plain": [
       "[(0, 0.9999999999999999),\n",
       " (522, 0.5271366713916804),\n",
       " (385, 0.38938059873837383),\n",
       " (1371, 0.3823956264058725),\n",
       " (1959, 0.35636448457102227),\n",
       " (1508, 0.3337166073858161)]"
      ]
     },
     "execution_count": 27,
     "metadata": {},
     "output_type": "execute_result"
    }
   ],
   "source": [
    "recommended_movies = sorted(list(enumerate(similarity[0])), reverse=True, key = lambda x : x[1])[:6]\n",
    "recommended_movies"
   ]
  },
  {
   "cell_type": "code",
   "execution_count": 28,
   "id": "97d6a9d5",
   "metadata": {},
   "outputs": [],
   "source": [
    "def recommend_movies(movie_name):\n",
    "    movie_index = new_df[new_df['title']== movie_name].index[0]\n",
    "    distances = similarity[movie_index]\n",
    "    recommended_movies = sorted(list(enumerate(distances)), reverse=True, key = lambda x : x[1])[:6]\n",
    "    \n",
    "    for i in recommended_movies[1:]:\n",
    "        print(new_df.iloc[i[0],:]['title'])\n",
    "    "
   ]
  },
  {
   "cell_type": "code",
   "execution_count": 29,
   "id": "2e751b6e",
   "metadata": {},
   "outputs": [
    {
     "name": "stdout",
     "output_type": "stream",
     "text": [
      "Batman: The Long Halloween, Part One\n",
      "I Am All Girls\n",
      "Se7en\n",
      "Zodiac\n",
      "The Bone Collector\n"
     ]
    }
   ],
   "source": [
    "recommend_movies('The Batman')"
   ]
  },
  {
   "cell_type": "markdown",
   "id": "f29d1908",
   "metadata": {},
   "source": [
    "### Save the dataframe & similarity matrix into pickle files"
   ]
  },
  {
   "cell_type": "code",
   "execution_count": 31,
   "id": "85e4be91",
   "metadata": {},
   "outputs": [],
   "source": [
    "import pickle"
   ]
  },
  {
   "cell_type": "code",
   "execution_count": 34,
   "id": "b3de4f79",
   "metadata": {},
   "outputs": [],
   "source": [
    "### To save the pkl file locally on the disk, use the below commands\n",
    "\n",
    "pkl_filename1 = 'movies.pkl'\n",
    "with open(pkl_filename1, 'wb') as file:\n",
    "    pickle.dump(new_df, file)"
   ]
  },
  {
   "cell_type": "code",
   "execution_count": 35,
   "id": "0ad7eaee",
   "metadata": {},
   "outputs": [],
   "source": [
    "pkl_filename2 = 'similarity.pkl'\n",
    "with open(pkl_filename2, 'wb') as file:\n",
    "    pickle.dump(similarity, file)"
   ]
  },
  {
   "cell_type": "code",
   "execution_count": null,
   "id": "e2dca7c2",
   "metadata": {},
   "outputs": [],
   "source": []
  }
 ],
 "metadata": {
  "kernelspec": {
   "display_name": "Python 3",
   "language": "python",
   "name": "python3"
  },
  "language_info": {
   "codemirror_mode": {
    "name": "ipython",
    "version": 3
   },
   "file_extension": ".py",
   "mimetype": "text/x-python",
   "name": "python",
   "nbconvert_exporter": "python",
   "pygments_lexer": "ipython3",
   "version": "3.8.8"
  },
  "toc": {
   "base_numbering": 1,
   "nav_menu": {},
   "number_sections": true,
   "sideBar": true,
   "skip_h1_title": false,
   "title_cell": "Table of Contents",
   "title_sidebar": "Contents",
   "toc_cell": false,
   "toc_position": {},
   "toc_section_display": true,
   "toc_window_display": false
  }
 },
 "nbformat": 4,
 "nbformat_minor": 5
}
