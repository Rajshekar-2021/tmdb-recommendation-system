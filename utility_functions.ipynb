{
 "cells": [
  {
   "cell_type": "markdown",
   "id": "cc619783",
   "metadata": {},
   "source": [
    "### TMDB-Extraction - Utility Functions"
   ]
  },
  {
   "cell_type": "code",
   "execution_count": 1,
   "id": "8d4c6d52",
   "metadata": {},
   "outputs": [],
   "source": [
    "# TMDB - API_KEY\n",
    "api_key = '93c3c10cfb3d981195193c06b5e45d36'"
   ]
  },
  {
   "cell_type": "code",
   "execution_count": 2,
   "id": "3e3f262f",
   "metadata": {},
   "outputs": [],
   "source": [
    "import pandas as pd\n",
    "import requests"
   ]
  },
  {
   "cell_type": "code",
   "execution_count": 3,
   "id": "950b060b",
   "metadata": {},
   "outputs": [],
   "source": [
    "#The Third API call to get the keywords\n",
    "\n",
    "def movie_keywords(movie_id):\n",
    "    url_keywords = ('https://api.themoviedb.org/3/movie/{}/keywords?api_key='+api_key).format(movie_id)\n",
    "    response_url_keywords = requests.get(url_keywords).json()\n",
    "    #time.sleep(1)\n",
    "    keywords = [keyword['name'] for keyword in response_url_keywords['keywords']]\n",
    "\n",
    "    return keywords"
   ]
  },
  {
   "cell_type": "code",
   "execution_count": 4,
   "id": "4fea85d4",
   "metadata": {},
   "outputs": [],
   "source": [
    "# Fourth API-call to get popular casts & crew\n",
    "\n",
    "def cast_crew(movie_id):\n",
    "\n",
    "    url = ('https://api.themoviedb.org/3/movie/{}/credits?api_key='+api_key+'&language=en-US').format(movie_id)\n",
    "    response_crew_cast = requests.get(url).json()\n",
    "  \n",
    "    try:\n",
    "        director_name = [i['name'] for i in response_crew_cast['crew'] if i['job']=='Director']\n",
    "    except:\n",
    "        director_name = []\n",
    "    \n",
    "    try:\n",
    "        popularity_dict = {}\n",
    "        df = pd.DataFrame()\n",
    "        if response_crew_cast['cast']!=[] :\n",
    "            for i in response_crew_cast['cast']:\n",
    "                popularity_dict['name'] = i['name']\n",
    "                popularity_dict['popularity'] = i['popularity']\n",
    "\n",
    "                df = df.append(popularity_dict,ignore_index=True)\n",
    "\n",
    "        if not df.empty:\n",
    "            df = df.sort_values('popularity',ascending=False).head(5)\n",
    "            popular_cast = list(df['name'].values)\n",
    "        else:\n",
    "            popular_cast = []\n",
    "    except:\n",
    "        popular_cast = []\n",
    "        \n",
    "        \n",
    "    return director_name,popular_cast"
   ]
  },
  {
   "cell_type": "code",
   "execution_count": 5,
   "id": "2c8353d6",
   "metadata": {},
   "outputs": [],
   "source": [
    "# Final API - Call to club all the collected data into a Dataframe\n",
    "\n",
    "def movie_details(max_pages=5):\n",
    "\n",
    "    pageToken=1\n",
    "    \n",
    "    features = ['movie_id','movie_genre','title','overview','release_date','keywords','director_name','popular_cast']\n",
    "    df = pd.DataFrame()\n",
    "    \n",
    "    while True:\n",
    "        \n",
    "        url = 'https://api.themoviedb.org/3/discover/movie?api_key='+api_key+'&language=en-US&'+f\"&page={pageToken}\"\n",
    "        response_movie_id = requests.get(url).json()\n",
    "            #time.sleep(1)\n",
    "\n",
    "        for id in response_movie_id['results']:\n",
    "            movie_id=id['id']\n",
    "            \n",
    "            if id['original_language']=='en':\n",
    "                url_movie_details = ('https://api.themoviedb.org/3/movie/{}?api_key='+api_key+'&language=en-US').format(movie_id)\n",
    "                response_movie_details = requests.get(url_movie_details).json()\n",
    "                if response_movie_details['status'] =='Released':\n",
    "                    movie_genre = [id['name'] for id in response_movie_details['genres'] if response_movie_details['genres']!=[] ]\n",
    "                    title = response_movie_details['original_title']\n",
    "                    overview = response_movie_details['overview']\n",
    "                    release_date = response_movie_details['release_date']\n",
    "                    keywords = movie_keywords(movie_id)\n",
    "                    director_name,popular_cast = cast_crew(movie_id)\n",
    "\n",
    "                df = df.append({'movie_id':movie_id,\n",
    "                                'title':title,\n",
    "                                'movie_genre':movie_genre,\n",
    "                                'overview':overview,\n",
    "                                'director_name' : director_name,\n",
    "                                'Popular_cast':popular_cast,\n",
    "                                'release_date':release_date,'keywords':keywords},ignore_index=True)\n",
    "\n",
    "        pageToken+=1\n",
    "        if pageToken>max_pages:\n",
    "            break\n",
    "\n",
    "    return df"
   ]
  },
  {
   "cell_type": "code",
   "execution_count": null,
   "id": "ed8c30b3",
   "metadata": {},
   "outputs": [],
   "source": []
  }
 ],
 "metadata": {
  "kernelspec": {
   "display_name": "Python 3",
   "language": "python",
   "name": "python3"
  },
  "language_info": {
   "codemirror_mode": {
    "name": "ipython",
    "version": 3
   },
   "file_extension": ".py",
   "mimetype": "text/x-python",
   "name": "python",
   "nbconvert_exporter": "python",
   "pygments_lexer": "ipython3",
   "version": "3.8.8"
  },
  "toc": {
   "base_numbering": 1,
   "nav_menu": {},
   "number_sections": true,
   "sideBar": true,
   "skip_h1_title": false,
   "title_cell": "Table of Contents",
   "title_sidebar": "Contents",
   "toc_cell": false,
   "toc_position": {},
   "toc_section_display": true,
   "toc_window_display": false
  }
 },
 "nbformat": 4,
 "nbformat_minor": 5
}
