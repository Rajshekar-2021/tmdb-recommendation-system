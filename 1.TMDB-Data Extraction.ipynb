{
 "cells": [
  {
   "cell_type": "markdown",
   "id": "c6a709ff",
   "metadata": {},
   "source": [
    "### Import the Utility Functions"
   ]
  },
  {
   "cell_type": "code",
   "execution_count": 2,
   "id": "77c2858d",
   "metadata": {},
   "outputs": [],
   "source": [
    "%run ./utility_functions.ipynb"
   ]
  },
  {
   "cell_type": "markdown",
   "id": "46fc99a8",
   "metadata": {},
   "source": [
    "### Import Necessary Libraries"
   ]
  },
  {
   "cell_type": "code",
   "execution_count": 3,
   "id": "59d2f899",
   "metadata": {},
   "outputs": [],
   "source": [
    "import pandas as pd\n",
    "import requests\n",
    "import time"
   ]
  },
  {
   "cell_type": "markdown",
   "id": "f6e37560",
   "metadata": {},
   "source": [
    "### Extract the dataset"
   ]
  },
  {
   "cell_type": "markdown",
   "id": "a6e4a819",
   "metadata": {},
   "source": [
    "### Kindly note that the processor of the system might impact the connecting time on the number of pages\n",
    "Select the max_Pages as low as possible to extract the data from tmdb-api"
   ]
  },
  {
   "cell_type": "code",
   "execution_count": 8,
   "id": "8875e70d",
   "metadata": {
    "scrolled": false
   },
   "outputs": [],
   "source": [
    "movies_df = movie_details(max_pages=5)"
   ]
  },
  {
   "cell_type": "code",
   "execution_count": 9,
   "id": "48250378",
   "metadata": {},
   "outputs": [
    {
     "data": {
      "text/html": [
       "<div>\n",
       "<style scoped>\n",
       "    .dataframe tbody tr th:only-of-type {\n",
       "        vertical-align: middle;\n",
       "    }\n",
       "\n",
       "    .dataframe tbody tr th {\n",
       "        vertical-align: top;\n",
       "    }\n",
       "\n",
       "    .dataframe thead th {\n",
       "        text-align: right;\n",
       "    }\n",
       "</style>\n",
       "<table border=\"1\" class=\"dataframe\">\n",
       "  <thead>\n",
       "    <tr style=\"text-align: right;\">\n",
       "      <th></th>\n",
       "      <th>Popular_cast</th>\n",
       "      <th>director_name</th>\n",
       "      <th>keywords</th>\n",
       "      <th>movie_genre</th>\n",
       "      <th>movie_id</th>\n",
       "      <th>overview</th>\n",
       "      <th>release_date</th>\n",
       "      <th>title</th>\n",
       "    </tr>\n",
       "  </thead>\n",
       "  <tbody>\n",
       "    <tr>\n",
       "      <th>0</th>\n",
       "      <td>[Mads Mikkelsen, Eddie Redmayne, Jude Law, Ezr...</td>\n",
       "      <td>[David Yates]</td>\n",
       "      <td>[curse, wizard, 1930s]</td>\n",
       "      <td>[Fantasy, Adventure, Action]</td>\n",
       "      <td>338953.0</td>\n",
       "      <td>Professor Albus Dumbledore knows the powerful,...</td>\n",
       "      <td>2022-04-06</td>\n",
       "      <td>Fantastic Beasts: The Secrets of Dumbledore</td>\n",
       "    </tr>\n",
       "    <tr>\n",
       "      <th>1</th>\n",
       "      <td>[Channing Tatum, Daniel Radcliffe, Brad Pitt, ...</td>\n",
       "      <td>[Adam Nee, Aaron Nee]</td>\n",
       "      <td>[duringcreditsstinger]</td>\n",
       "      <td>[Action, Adventure, Comedy]</td>\n",
       "      <td>752623.0</td>\n",
       "      <td>A reclusive romance novelist was sure nothing ...</td>\n",
       "      <td>2022-03-24</td>\n",
       "      <td>The Lost City</td>\n",
       "    </tr>\n",
       "    <tr>\n",
       "      <th>2</th>\n",
       "      <td>[Jared Leto, Adria Arjona, Michael Keaton, Mat...</td>\n",
       "      <td>[Daniel Espinosa]</td>\n",
       "      <td>[vampire, based on comic]</td>\n",
       "      <td>[Action, Science Fiction, Fantasy]</td>\n",
       "      <td>526896.0</td>\n",
       "      <td>Dangerously ill with a rare blood disorder, an...</td>\n",
       "      <td>2022-03-30</td>\n",
       "      <td>Morbius</td>\n",
       "    </tr>\n",
       "    <tr>\n",
       "      <th>3</th>\n",
       "      <td>[James Marsden, Jim Carrey, Ben Schwartz, Shem...</td>\n",
       "      <td>[Jeff Fowler]</td>\n",
       "      <td>[sequel, based on video game, hedgehog, live a...</td>\n",
       "      <td>[Action, Adventure, Family, Comedy]</td>\n",
       "      <td>675353.0</td>\n",
       "      <td>After settling in Green Hills, Sonic is eager ...</td>\n",
       "      <td>2022-03-30</td>\n",
       "      <td>Sonic the Hedgehog 2</td>\n",
       "    </tr>\n",
       "    <tr>\n",
       "      <th>4</th>\n",
       "      <td>[Liam Neeson, Monica Bellucci, Guy Pearce, Taj...</td>\n",
       "      <td>[Martin Campbell]</td>\n",
       "      <td>[assassin, remake]</td>\n",
       "      <td>[Action, Thriller, Crime]</td>\n",
       "      <td>818397.0</td>\n",
       "      <td>Alex, an assassin-for-hire, finds that he's be...</td>\n",
       "      <td>2022-04-28</td>\n",
       "      <td>Memory</td>\n",
       "    </tr>\n",
       "  </tbody>\n",
       "</table>\n",
       "</div>"
      ],
      "text/plain": [
       "                                        Popular_cast          director_name  \\\n",
       "0  [Mads Mikkelsen, Eddie Redmayne, Jude Law, Ezr...          [David Yates]   \n",
       "1  [Channing Tatum, Daniel Radcliffe, Brad Pitt, ...  [Adam Nee, Aaron Nee]   \n",
       "2  [Jared Leto, Adria Arjona, Michael Keaton, Mat...      [Daniel Espinosa]   \n",
       "3  [James Marsden, Jim Carrey, Ben Schwartz, Shem...          [Jeff Fowler]   \n",
       "4  [Liam Neeson, Monica Bellucci, Guy Pearce, Taj...      [Martin Campbell]   \n",
       "\n",
       "                                            keywords  \\\n",
       "0                             [curse, wizard, 1930s]   \n",
       "1                             [duringcreditsstinger]   \n",
       "2                          [vampire, based on comic]   \n",
       "3  [sequel, based on video game, hedgehog, live a...   \n",
       "4                                 [assassin, remake]   \n",
       "\n",
       "                           movie_genre  movie_id  \\\n",
       "0         [Fantasy, Adventure, Action]  338953.0   \n",
       "1          [Action, Adventure, Comedy]  752623.0   \n",
       "2   [Action, Science Fiction, Fantasy]  526896.0   \n",
       "3  [Action, Adventure, Family, Comedy]  675353.0   \n",
       "4            [Action, Thriller, Crime]  818397.0   \n",
       "\n",
       "                                            overview release_date  \\\n",
       "0  Professor Albus Dumbledore knows the powerful,...   2022-04-06   \n",
       "1  A reclusive romance novelist was sure nothing ...   2022-03-24   \n",
       "2  Dangerously ill with a rare blood disorder, an...   2022-03-30   \n",
       "3  After settling in Green Hills, Sonic is eager ...   2022-03-30   \n",
       "4  Alex, an assassin-for-hire, finds that he's be...   2022-04-28   \n",
       "\n",
       "                                         title  \n",
       "0  Fantastic Beasts: The Secrets of Dumbledore  \n",
       "1                                The Lost City  \n",
       "2                                      Morbius  \n",
       "3                         Sonic the Hedgehog 2  \n",
       "4                                       Memory  "
      ]
     },
     "execution_count": 9,
     "metadata": {},
     "output_type": "execute_result"
    }
   ],
   "source": [
    "movies_df.head()"
   ]
  },
  {
   "cell_type": "markdown",
   "id": "efa4efbd",
   "metadata": {},
   "source": [
    "### Saving the Dataset into csv file"
   ]
  },
  {
   "cell_type": "code",
   "execution_count": 10,
   "id": "43ff3091",
   "metadata": {},
   "outputs": [],
   "source": [
    "movies_df.to_csv('Extracted_Movies_Dataset_Sample.csv')"
   ]
  },
  {
   "cell_type": "code",
   "execution_count": null,
   "id": "35fafb97",
   "metadata": {},
   "outputs": [],
   "source": []
  }
 ],
 "metadata": {
  "kernelspec": {
   "display_name": "Python 3",
   "language": "python",
   "name": "python3"
  },
  "language_info": {
   "codemirror_mode": {
    "name": "ipython",
    "version": 3
   },
   "file_extension": ".py",
   "mimetype": "text/x-python",
   "name": "python",
   "nbconvert_exporter": "python",
   "pygments_lexer": "ipython3",
   "version": "3.8.8"
  },
  "toc": {
   "base_numbering": 1,
   "nav_menu": {},
   "number_sections": true,
   "sideBar": true,
   "skip_h1_title": false,
   "title_cell": "Table of Contents",
   "title_sidebar": "Contents",
   "toc_cell": false,
   "toc_position": {},
   "toc_section_display": true,
   "toc_window_display": false
  }
 },
 "nbformat": 4,
 "nbformat_minor": 5
}
